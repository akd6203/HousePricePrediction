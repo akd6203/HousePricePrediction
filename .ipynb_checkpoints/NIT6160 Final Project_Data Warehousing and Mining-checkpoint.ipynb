{
 "cells": [
  {
   "cell_type": "markdown",
   "id": "1f3c2e3f-64c7-4bf7-b94a-626d297d33c8",
   "metadata": {},
   "source": [
    "### Load Modules"
   ]
  },
  {
   "cell_type": "code",
   "execution_count": 1,
   "id": "f6f84c8c-08e3-470f-bc92-97981ad3b0f9",
   "metadata": {},
   "outputs": [],
   "source": [
    "import numpy as np\n",
    "import pandas as pd\n",
    "import seaborn as sns\n",
    "import matplotlib.pyplot as plt\n",
    "import folium\n",
    "from sklearn.model_selection import train_test_split\n",
    "from xgboost import XGBRegressor\n",
    "from nltk.sentiment import SentimentIntensityAnalyzer"
   ]
  },
  {
   "cell_type": "markdown",
   "id": "cfe4b743-b6ca-4d34-8694-e610c30ec83a",
   "metadata": {},
   "source": [
    "### Load the Dataset"
   ]
  },
  {
   "cell_type": "code",
   "execution_count": 2,
   "id": "09f49212-8a34-407a-b6d1-36607af6d234",
   "metadata": {},
   "outputs": [],
   "source": [
    "listings = pd.read_csv('listings.csv')"
   ]
  },
  {
   "cell_type": "markdown",
   "id": "6c58f8f9-dcbd-4a52-ad5f-47bed5fb4a40",
   "metadata": {},
   "source": [
    "# Task 1: Data Pre-processing"
   ]
  },
  {
   "cell_type": "markdown",
   "id": "823546d2-ee5a-4535-8287-6623727e1bab",
   "metadata": {},
   "source": [
    "The main focus of this task is to remove the irrelevant columns and values to improve model's prediction accuracy. In order to do so, we have to carefully analyze the columns and data first."
   ]
  },
  {
   "cell_type": "markdown",
   "id": "5b958a15-4954-4e1c-a5d6-30d01064a0a2",
   "metadata": {},
   "source": [
    "### 1) Deciding which columns to work with"
   ]
  },
  {
   "cell_type": "code",
   "execution_count": 3,
   "id": "01116a19-f827-4dea-b6a8-646d875c02db",
   "metadata": {},
   "outputs": [
    {
     "name": "stdout",
     "output_type": "stream",
     "text": [
      "Index(['id', 'listing_url', 'scrape_id', 'last_scraped', 'source', 'name',\n",
      "       'description', 'neighborhood_overview', 'picture_url', 'host_id',\n",
      "       'host_url', 'host_name', 'host_since', 'host_location', 'host_about',\n",
      "       'host_response_time', 'host_response_rate', 'host_acceptance_rate',\n",
      "       'host_is_superhost', 'host_thumbnail_url', 'host_picture_url',\n",
      "       'host_neighbourhood', 'host_listings_count',\n",
      "       'host_total_listings_count', 'host_verifications',\n",
      "       'host_has_profile_pic', 'host_identity_verified', 'neighbourhood',\n",
      "       'neighbourhood_cleansed', 'neighbourhood_group_cleansed', 'latitude',\n",
      "       'longitude', 'property_type', 'room_type', 'accommodates', 'bathrooms',\n",
      "       'bathrooms_text', 'bedrooms', 'beds', 'amenities', 'price',\n",
      "       'minimum_nights', 'maximum_nights', 'minimum_minimum_nights',\n",
      "       'maximum_minimum_nights', 'minimum_maximum_nights',\n",
      "       'maximum_maximum_nights', 'minimum_nights_avg_ntm',\n",
      "       'maximum_nights_avg_ntm', 'calendar_updated', 'has_availability',\n",
      "       'availability_30', 'availability_60', 'availability_90',\n",
      "       'availability_365', 'calendar_last_scraped', 'number_of_reviews',\n",
      "       'number_of_reviews_ltm', 'number_of_reviews_l30d', 'first_review',\n",
      "       'last_review', 'review_scores_rating', 'review_scores_accuracy',\n",
      "       'review_scores_cleanliness', 'review_scores_checkin',\n",
      "       'review_scores_communication', 'review_scores_location',\n",
      "       'review_scores_value', 'license', 'instant_bookable',\n",
      "       'calculated_host_listings_count',\n",
      "       'calculated_host_listings_count_entire_homes',\n",
      "       'calculated_host_listings_count_private_rooms',\n",
      "       'calculated_host_listings_count_shared_rooms', 'reviews_per_month'],\n",
      "      dtype='object')\n"
     ]
    }
   ],
   "source": [
    "print(listings.columns)"
   ]
  },
  {
   "cell_type": "markdown",
   "id": "3d0e1681-90c3-4b9e-8f52-2a3ca5e5c709",
   "metadata": {},
   "source": [
    "As we can see there are so many columns in the given dataset, we will select the columns, those can potentially affect the property's price"
   ]
  },
  {
   "cell_type": "code",
   "execution_count": 4,
   "id": "ec96d864-91f1-4f3d-8007-06ad893737dd",
   "metadata": {},
   "outputs": [],
   "source": [
    "columns_of_interest = ['id', 'name', 'description', 'neighbourhood', 'latitude', 'longitude', 'property_type', 'room_type', 'accommodates', 'bathrooms', 'bedrooms', 'beds', 'amenities', 'number_of_reviews', 'review_scores_rating', 'price']\n",
    "listings_updated = listings[columns_of_interest]"
   ]
  },
  {
   "cell_type": "code",
   "execution_count": 5,
   "id": "d8129caa-9d57-4b15-bf9b-fb2e10e7408f",
   "metadata": {},
   "outputs": [
    {
     "data": {
      "text/html": [
       "<div>\n",
       "<style scoped>\n",
       "    .dataframe tbody tr th:only-of-type {\n",
       "        vertical-align: middle;\n",
       "    }\n",
       "\n",
       "    .dataframe tbody tr th {\n",
       "        vertical-align: top;\n",
       "    }\n",
       "\n",
       "    .dataframe thead th {\n",
       "        text-align: right;\n",
       "    }\n",
       "</style>\n",
       "<table border=\"1\" class=\"dataframe\">\n",
       "  <thead>\n",
       "    <tr style=\"text-align: right;\">\n",
       "      <th></th>\n",
       "      <th>id</th>\n",
       "      <th>name</th>\n",
       "      <th>description</th>\n",
       "      <th>neighbourhood</th>\n",
       "      <th>latitude</th>\n",
       "      <th>longitude</th>\n",
       "      <th>property_type</th>\n",
       "      <th>room_type</th>\n",
       "      <th>accommodates</th>\n",
       "      <th>bathrooms</th>\n",
       "      <th>bedrooms</th>\n",
       "      <th>beds</th>\n",
       "      <th>amenities</th>\n",
       "      <th>number_of_reviews</th>\n",
       "      <th>review_scores_rating</th>\n",
       "      <th>price</th>\n",
       "    </tr>\n",
       "  </thead>\n",
       "  <tbody>\n",
       "    <tr>\n",
       "      <th>0</th>\n",
       "      <td>894708633943425209</td>\n",
       "      <td>Rental unit in Antwerpen · 1 bedroom · 4 beds ...</td>\n",
       "      <td>A bright and beautiful newly renovated apartme...</td>\n",
       "      <td>Antwerpen, Vlaams Gewest, Belgium</td>\n",
       "      <td>51.223309</td>\n",
       "      <td>4.402095</td>\n",
       "      <td>Entire rental unit</td>\n",
       "      <td>Entire home/apt</td>\n",
       "      <td>8</td>\n",
       "      <td>NaN</td>\n",
       "      <td>1.0</td>\n",
       "      <td>4.0</td>\n",
       "      <td>[\"Extra pillows and blankets\", \"Conditioner\", ...</td>\n",
       "      <td>2</td>\n",
       "      <td>5.0</td>\n",
       "      <td>$56.00</td>\n",
       "    </tr>\n",
       "    <tr>\n",
       "      <th>1</th>\n",
       "      <td>741093042494325959</td>\n",
       "      <td>Serviced apartment in Antwerpen · Studio · 1 b...</td>\n",
       "      <td>Elegant ingerichte kamer in het hart van Antwe...</td>\n",
       "      <td>NaN</td>\n",
       "      <td>51.224110</td>\n",
       "      <td>4.398240</td>\n",
       "      <td>Private room in serviced apartment</td>\n",
       "      <td>Private room</td>\n",
       "      <td>2</td>\n",
       "      <td>NaN</td>\n",
       "      <td>NaN</td>\n",
       "      <td>1.0</td>\n",
       "      <td>[\"Wifi\", \"Fire extinguisher\", \"Dedicated works...</td>\n",
       "      <td>0</td>\n",
       "      <td>NaN</td>\n",
       "      <td>$142.00</td>\n",
       "    </tr>\n",
       "  </tbody>\n",
       "</table>\n",
       "</div>"
      ],
      "text/plain": [
       "                   id                                               name  \\\n",
       "0  894708633943425209  Rental unit in Antwerpen · 1 bedroom · 4 beds ...   \n",
       "1  741093042494325959  Serviced apartment in Antwerpen · Studio · 1 b...   \n",
       "\n",
       "                                         description  \\\n",
       "0  A bright and beautiful newly renovated apartme...   \n",
       "1  Elegant ingerichte kamer in het hart van Antwe...   \n",
       "\n",
       "                       neighbourhood   latitude  longitude  \\\n",
       "0  Antwerpen, Vlaams Gewest, Belgium  51.223309   4.402095   \n",
       "1                                NaN  51.224110   4.398240   \n",
       "\n",
       "                        property_type        room_type  accommodates  \\\n",
       "0                  Entire rental unit  Entire home/apt             8   \n",
       "1  Private room in serviced apartment     Private room             2   \n",
       "\n",
       "   bathrooms  bedrooms  beds  \\\n",
       "0        NaN       1.0   4.0   \n",
       "1        NaN       NaN   1.0   \n",
       "\n",
       "                                           amenities  number_of_reviews  \\\n",
       "0  [\"Extra pillows and blankets\", \"Conditioner\", ...                  2   \n",
       "1  [\"Wifi\", \"Fire extinguisher\", \"Dedicated works...                  0   \n",
       "\n",
       "   review_scores_rating    price  \n",
       "0                   5.0   $56.00  \n",
       "1                   NaN  $142.00  "
      ]
     },
     "execution_count": 5,
     "metadata": {},
     "output_type": "execute_result"
    }
   ],
   "source": [
    "listings_updated.head(2)"
   ]
  },
  {
   "cell_type": "markdown",
   "id": "e349a661-0a0b-4b7c-ab9e-53044fce98cc",
   "metadata": {},
   "source": [
    "### 2) Cleaning prices and dealing with missing values"
   ]
  },
  {
   "cell_type": "markdown",
   "id": "def55873-0c2d-49fc-b6c2-846e12c8a6d3",
   "metadata": {},
   "source": [
    "Before feeding data to the prediction model, it is important to clean the data first so that it can accurately fit the model's objective. In the given dataset, there are numerous cells those have null values. Our goal is to remove that irrelevant information and improve model's prediction and processing speed."
   ]
  },
  {
   "cell_type": "markdown",
   "id": "a386d280-a94b-47b2-9797-f0658f2b5d21",
   "metadata": {},
   "source": [
    "##### Change the currency to float values"
   ]
  },
  {
   "cell_type": "code",
   "execution_count": 6,
   "id": "7113e9f9-747b-48d9-ac19-1805ac9c28ef",
   "metadata": {},
   "outputs": [
    {
     "name": "stdout",
     "output_type": "stream",
     "text": [
      "0     $56.00\n",
      "1    $142.00\n",
      "2     $40.00\n",
      "3     $70.00\n",
      "4     $35.00\n",
      "Name: price, dtype: object\n"
     ]
    }
   ],
   "source": [
    "print(listings_updated.price[:5])"
   ]
  },
  {
   "cell_type": "code",
   "execution_count": 7,
   "id": "6f8e8324-46f7-4c05-86e8-1205d3b3e149",
   "metadata": {},
   "outputs": [
    {
     "name": "stdout",
     "output_type": "stream",
     "text": [
      "object\n"
     ]
    }
   ],
   "source": [
    "print(listings_updated.price.dtype)"
   ]
  },
  {
   "cell_type": "markdown",
   "id": "2cf5bcdf-9046-4153-b184-fdfcfad21320",
   "metadata": {},
   "source": [
    "As we cans see above, the column \"price\" is having a string value with \"$\" in it. We need to remove that sign and convert that colun value to float one, in order to apply Machine Learning prediction algorith as given in the objective."
   ]
  },
  {
   "cell_type": "code",
   "execution_count": 8,
   "id": "6c635b81-0867-4a64-8f7a-7365d3bfc1b0",
   "metadata": {},
   "outputs": [],
   "source": [
    "price_col = listings_updated['price'].replace('[\\$,]', '', regex=True).astype(float)"
   ]
  },
  {
   "cell_type": "code",
   "execution_count": 9,
   "id": "50ce0c2e-9bea-450b-af0c-43d8d36d16c6",
   "metadata": {},
   "outputs": [
    {
     "name": "stderr",
     "output_type": "stream",
     "text": [
      "C:\\Users\\AMAN\\AppData\\Local\\Temp\\ipykernel_8288\\3882805785.py:1: SettingWithCopyWarning: \n",
      "A value is trying to be set on a copy of a slice from a DataFrame.\n",
      "Try using .loc[row_indexer,col_indexer] = value instead\n",
      "\n",
      "See the caveats in the documentation: https://pandas.pydata.org/pandas-docs/stable/user_guide/indexing.html#returning-a-view-versus-a-copy\n",
      "  listings_updated.loc[:, 'price'] = price_col\n",
      "C:\\Users\\AMAN\\AppData\\Local\\Temp\\ipykernel_8288\\3882805785.py:1: DeprecationWarning: In a future version, `df.iloc[:, i] = newvals` will attempt to set the values inplace instead of always setting a new array. To retain the old behavior, use either `df[df.columns[i]] = newvals` or, if columns are non-unique, `df.isetitem(i, newvals)`\n",
      "  listings_updated.loc[:, 'price'] = price_col\n"
     ]
    }
   ],
   "source": [
    "listings_updated.loc[:, 'price'] = price_col"
   ]
  },
  {
   "cell_type": "code",
   "execution_count": 10,
   "id": "6ab74975-5460-48c5-b03a-f313c88cdfc7",
   "metadata": {},
   "outputs": [
    {
     "name": "stdout",
     "output_type": "stream",
     "text": [
      "float64\n",
      "0     56.0\n",
      "1    142.0\n",
      "2     40.0\n",
      "3     70.0\n",
      "4     35.0\n",
      "Name: price, dtype: float64\n"
     ]
    }
   ],
   "source": [
    "print(listings_updated.price.dtype)\n",
    "print(listings_updated.price[:5])"
   ]
  },
  {
   "cell_type": "code",
   "execution_count": 11,
   "id": "7e334657-db14-495c-ac80-c8269d751c33",
   "metadata": {},
   "outputs": [
    {
     "data": {
      "text/html": [
       "<div>\n",
       "<style scoped>\n",
       "    .dataframe tbody tr th:only-of-type {\n",
       "        vertical-align: middle;\n",
       "    }\n",
       "\n",
       "    .dataframe tbody tr th {\n",
       "        vertical-align: top;\n",
       "    }\n",
       "\n",
       "    .dataframe thead th {\n",
       "        text-align: right;\n",
       "    }\n",
       "</style>\n",
       "<table border=\"1\" class=\"dataframe\">\n",
       "  <thead>\n",
       "    <tr style=\"text-align: right;\">\n",
       "      <th></th>\n",
       "      <th>name</th>\n",
       "      <th>price</th>\n",
       "    </tr>\n",
       "  </thead>\n",
       "  <tbody>\n",
       "    <tr>\n",
       "      <th>0</th>\n",
       "      <td>Rental unit in Antwerpen · 1 bedroom · 4 beds ...</td>\n",
       "      <td>56.0</td>\n",
       "    </tr>\n",
       "    <tr>\n",
       "      <th>1</th>\n",
       "      <td>Serviced apartment in Antwerpen · Studio · 1 b...</td>\n",
       "      <td>142.0</td>\n",
       "    </tr>\n",
       "    <tr>\n",
       "      <th>2</th>\n",
       "      <td>Home in Antwerpen · ★4.75 · 1 bedroom · 1 bed ...</td>\n",
       "      <td>40.0</td>\n",
       "    </tr>\n",
       "  </tbody>\n",
       "</table>\n",
       "</div>"
      ],
      "text/plain": [
       "                                                name  price\n",
       "0  Rental unit in Antwerpen · 1 bedroom · 4 beds ...   56.0\n",
       "1  Serviced apartment in Antwerpen · Studio · 1 b...  142.0\n",
       "2  Home in Antwerpen · ★4.75 · 1 bedroom · 1 bed ...   40.0"
      ]
     },
     "execution_count": 11,
     "metadata": {},
     "output_type": "execute_result"
    }
   ],
   "source": [
    "listings_updated.loc[:,['name','price']].head(3)"
   ]
  },
  {
   "cell_type": "markdown",
   "id": "bc9d47a7-a341-47e0-bb80-1a6674664cf0",
   "metadata": {},
   "source": [
    "##### Number of rows and columns in dataset before cleaning"
   ]
  },
  {
   "cell_type": "code",
   "execution_count": 12,
   "id": "fb70bd53-f40e-4a54-8f2e-7cc35bd19718",
   "metadata": {},
   "outputs": [
    {
     "name": "stdout",
     "output_type": "stream",
     "text": [
      "Rows: 2702\n",
      "Columns:  16\n"
     ]
    }
   ],
   "source": [
    "rows, columns = listings_updated.shape\n",
    "print(\"Rows:\", rows)\n",
    "print(\"Columns: \", columns)"
   ]
  },
  {
   "cell_type": "markdown",
   "id": "0f54bd05-a86a-4924-b63b-1b8df76e5fd1",
   "metadata": {},
   "source": [
    "- Check the number of null values in each column"
   ]
  },
  {
   "cell_type": "code",
   "execution_count": 13,
   "id": "5434ca62-cc31-40cf-abf2-4448f410ea34",
   "metadata": {},
   "outputs": [
    {
     "name": "stdout",
     "output_type": "stream",
     "text": [
      "id                         0\n",
      "name                       0\n",
      "description               61\n",
      "neighbourhood           1225\n",
      "latitude                   0\n",
      "longitude                  0\n",
      "property_type              0\n",
      "room_type                  0\n",
      "accommodates               0\n",
      "bathrooms               2702\n",
      "bedrooms                 473\n",
      "beds                      21\n",
      "amenities                  0\n",
      "number_of_reviews          0\n",
      "review_scores_rating     438\n",
      "price                      0\n",
      "dtype: int64\n"
     ]
    }
   ],
   "source": [
    "print(listings_updated.isnull().sum())"
   ]
  },
  {
   "cell_type": "markdown",
   "id": "143be441-3314-4dbb-a38d-5ecc7af7eebc",
   "metadata": {},
   "source": [
    "- In oredr to deal with null values, we have two options, either to remove those records or fill them with assumed values.\n",
    "- As we can see in the summary above, \"bathroom\" column has no record for all 2702 rows. Hence, we can exclude that column."
   ]
  },
  {
   "cell_type": "code",
   "execution_count": 14,
   "id": "5a8c166f-e276-4c2c-a641-202131eed9ad",
   "metadata": {},
   "outputs": [
    {
     "name": "stdout",
     "output_type": "stream",
     "text": [
      "(2702, 15)\n"
     ]
    }
   ],
   "source": [
    "listings_cleaned = listings_updated.drop(columns=[\"bathrooms\"])\n",
    "print(listings_cleaned.shape)"
   ]
  },
  {
   "cell_type": "markdown",
   "id": "44db182b-17ab-4f5b-a5ca-0478943b1bea",
   "metadata": {},
   "source": [
    "- Let's fill the \"bedrooms\", \"beds\" with the most repeated values"
   ]
  },
  {
   "cell_type": "code",
   "execution_count": 15,
   "id": "e926f774-b430-4ad3-a108-1a5beeff5ded",
   "metadata": {},
   "outputs": [],
   "source": [
    "# Calculate the mode\n",
    "bedrooms_mode = listings_cleaned['bedrooms'].mode().iloc[0]\n",
    "beds_mode = listings_cleaned['beds'].mode().iloc[0]"
   ]
  },
  {
   "cell_type": "markdown",
   "id": "2f408b2e-3942-45b0-bdde-0cedbf922721",
   "metadata": {},
   "source": [
    "##### Fill the Null values"
   ]
  },
  {
   "cell_type": "code",
   "execution_count": 16,
   "id": "7b48a3ea-e1b1-406f-9c0e-401fc566a057",
   "metadata": {},
   "outputs": [],
   "source": [
    "listings_cleaned[\"bedrooms\"].fillna(bedrooms_mode, inplace=True)\n",
    "listings_cleaned[\"beds\"].fillna(beds_mode, inplace=True)"
   ]
  },
  {
   "cell_type": "code",
   "execution_count": 17,
   "id": "19970c04-61ef-49fd-9d47-66b8d2b49857",
   "metadata": {},
   "outputs": [
    {
     "name": "stdout",
     "output_type": "stream",
     "text": [
      "id                         0\n",
      "name                       0\n",
      "description               61\n",
      "neighbourhood           1225\n",
      "latitude                   0\n",
      "longitude                  0\n",
      "property_type              0\n",
      "room_type                  0\n",
      "accommodates               0\n",
      "bedrooms                   0\n",
      "beds                       0\n",
      "amenities                  0\n",
      "number_of_reviews          0\n",
      "review_scores_rating     438\n",
      "price                      0\n",
      "dtype: int64\n"
     ]
    }
   ],
   "source": [
    "print(listings_cleaned.isnull().sum())"
   ]
  },
  {
   "cell_type": "markdown",
   "id": "7b0c7816-f42b-43db-99e3-c45672ff1d82",
   "metadata": {},
   "source": [
    "As we can see in the summary, those columns no longer have any missing values in them"
   ]
  },
  {
   "cell_type": "markdown",
   "id": "44752306-39e8-4212-a968-6f5f3d9973f1",
   "metadata": {},
   "source": [
    "- Let's fill the \"review_scores_rating\" with the average value of that column"
   ]
  },
  {
   "cell_type": "code",
   "execution_count": 18,
   "id": "da99e863-f673-4442-9af8-5282bba800fb",
   "metadata": {},
   "outputs": [],
   "source": [
    "listings_cleaned['review_scores_rating'].fillna(listings_cleaned.review_scores_rating.mean(), inplace=True)"
   ]
  },
  {
   "cell_type": "code",
   "execution_count": 19,
   "id": "4ef5afb4-8396-4c4c-8a06-ad611fe3e194",
   "metadata": {},
   "outputs": [
    {
     "name": "stdout",
     "output_type": "stream",
     "text": [
      "id                         0\n",
      "name                       0\n",
      "description               61\n",
      "neighbourhood           1225\n",
      "latitude                   0\n",
      "longitude                  0\n",
      "property_type              0\n",
      "room_type                  0\n",
      "accommodates               0\n",
      "bedrooms                   0\n",
      "beds                       0\n",
      "amenities                  0\n",
      "number_of_reviews          0\n",
      "review_scores_rating       0\n",
      "price                      0\n",
      "dtype: int64\n"
     ]
    }
   ],
   "source": [
    "print(listings_cleaned.isnull().sum())"
   ]
  },
  {
   "cell_type": "markdown",
   "id": "a1204249-9ab0-4f2c-b82d-90aac1bf109a",
   "metadata": {},
   "source": [
    "##### Delete the records, those have still have null values"
   ]
  },
  {
   "cell_type": "markdown",
   "id": "1053164c-61f0-474d-9eea-e62404943c09",
   "metadata": {},
   "source": [
    "The code below, will remove all the rows, where \"description\" and \"neighbourhood\" has no value. We cannot calculate mean, median or mode for these columns, as they are not numerical ones."
   ]
  },
  {
   "cell_type": "code",
   "execution_count": 20,
   "id": "c9bbf6bf-31e1-423f-9f67-01fecc004709",
   "metadata": {},
   "outputs": [],
   "source": [
    "listings_cleaned.dropna(inplace=True)"
   ]
  },
  {
   "cell_type": "code",
   "execution_count": 21,
   "id": "65bad979-acc8-45c1-be76-efb11bbeede7",
   "metadata": {},
   "outputs": [
    {
     "data": {
      "text/plain": [
       "id                      0\n",
       "name                    0\n",
       "description             0\n",
       "neighbourhood           0\n",
       "latitude                0\n",
       "longitude               0\n",
       "property_type           0\n",
       "room_type               0\n",
       "accommodates            0\n",
       "bedrooms                0\n",
       "beds                    0\n",
       "amenities               0\n",
       "number_of_reviews       0\n",
       "review_scores_rating    0\n",
       "price                   0\n",
       "dtype: int64"
      ]
     },
     "execution_count": 21,
     "metadata": {},
     "output_type": "execute_result"
    }
   ],
   "source": [
    "listings_cleaned.isnull().sum()"
   ]
  },
  {
   "cell_type": "markdown",
   "id": "5784bc4b-c932-4c7d-ae90-403ea94ec1ef",
   "metadata": {},
   "source": [
    "##### Number of rows and columns in dataset before cleaning"
   ]
  },
  {
   "cell_type": "code",
   "execution_count": 22,
   "id": "b105c911-9d68-4f74-b37f-5158e804297e",
   "metadata": {},
   "outputs": [
    {
     "name": "stdout",
     "output_type": "stream",
     "text": [
      "Rows: 1447\n",
      "Columns:  15\n"
     ]
    }
   ],
   "source": [
    "rows, columns = listings_cleaned.shape\n",
    "print(\"Rows:\", rows)\n",
    "print(\"Columns: \", columns)"
   ]
  },
  {
   "cell_type": "markdown",
   "id": "56b8f8d9-df26-43be-bf67-37eb829b6e06",
   "metadata": {},
   "source": [
    "# Task 2: Exploratory Data Analysis (EDA) with Data Visualization"
   ]
  },
  {
   "cell_type": "markdown",
   "id": "d341c06d-a256-48cb-8a23-bfc503dbf2b1",
   "metadata": {},
   "source": [
    "### 3) Price column visualization"
   ]
  },
  {
   "cell_type": "code",
   "execution_count": 23,
   "id": "04bb69b8-f5ed-43b0-9913-c5822fc1c4eb",
   "metadata": {},
   "outputs": [
    {
     "data": {
      "image/png": "[encoded data removed]",
      "text/plain": [
       "<Figure size 1000x600 with 1 Axes>"
      ]
     },
     "metadata": {},
     "output_type": "display_data"
    }
   ],
   "source": [
    "# Boxplot for price distribution\n",
    "plt.figure(figsize=(10, 6))\n",
    "sns.boxplot(x='price', data=listings_cleaned)\n",
    "plt.title('Price Distribution of Accommodations')\n",
    "plt.xlabel('Price')\n",
    "plt.show()"
   ]
  },
  {
   "cell_type": "code",
   "execution_count": 24,
   "id": "a7f22a65-c7b1-4245-8844-15835b978737",
   "metadata": {},
   "outputs": [
    {
     "data": {
      "image/png": "[encoded data removed]",
      "text/plain": [
       "<Figure size 1000x600 with 1 Axes>"
      ]
     },
     "metadata": {},
     "output_type": "display_data"
    }
   ],
   "source": [
    "# Log-transform the 'price' column\n",
    "listings_cleaned['log_price'] = np.log1p(listings_cleaned['price'])\n",
    "\n",
    "# Create a boxplot for log-transformed prices\n",
    "plt.figure(figsize=(10, 6))\n",
    "sns.boxplot(x='log_price', data=listings_cleaned)\n",
    "plt.title('Log-Transformed Price Distribution of Accommodations')\n",
    "plt.xlabel('Log-Transformed Price')\n",
    "plt.show()\n"
   ]
  },
  {
   "cell_type": "markdown",
   "id": "a9657bfb-7d37-492d-8e2d-eac29532020a",
   "metadata": {},
   "source": [
    "- We can adjust the whiskers' range to include a specific percentage of the data, excluding extreme outliers."
   ]
  },
  {
   "cell_type": "code",
   "execution_count": 25,
   "id": "7dc814db-eae8-4af2-b860-5e39c5052d31",
   "metadata": {},
   "outputs": [
    {
     "data": {
      "image/png": "[encoded data removed]",
      "text/plain": [
       "<Figure size 1000x600 with 1 Axes>"
      ]
     },
     "metadata": {},
     "output_type": "display_data"
    }
   ],
   "source": [
    "# Create a boxplot with adjusted whiskers\n",
    "plt.figure(figsize=(10, 6))\n",
    "sns.boxplot(x='price', data=listings_cleaned, whis=[5, 95])  # Adjust the whiskers as needed\n",
    "plt.title('Price Distribution of Accommodations with Adjusted Whiskers')\n",
    "plt.xlabel('Price')\n",
    "plt.show()"
   ]
  },
  {
   "cell_type": "code",
   "execution_count": 26,
   "id": "03801da2-7a12-46f0-b5ae-7c125e9b7d46",
   "metadata": {},
   "outputs": [
    {
     "data": {
      "image/png": "[encoded data removed]",
      "text/plain": [
       "<Figure size 1000x600 with 1 Axes>"
      ]
     },
     "metadata": {},
     "output_type": "display_data"
    }
   ],
   "source": [
    "# Remove extreme outliers (adjust threshold as needed)\n",
    "listings_no_outliers = listings_updated[listings_updated['price'] < 1000].head(100)\n",
    "\n",
    "# Create a boxplot without extreme outliers\n",
    "plt.figure(figsize=(10, 6))\n",
    "sns.boxplot( x=listings_no_outliers[\"bedrooms\"], y=listings_no_outliers[\"price\"], color='orangered');\n",
    "plt.title('Price Distribution of First 100 Accommodations (Excluding Outliers)')\n",
    "plt.xlabel('No of Bedrooms')\n",
    "plt.xticks(rotation=90)\n",
    "plt.show()"
   ]
  },
  {
   "cell_type": "markdown",
   "id": "107fca86-9747-4972-bbc5-13b861e10ad0",
   "metadata": {},
   "source": [
    "### 4) Accommodation distribution on maps"
   ]
  },
  {
   "cell_type": "markdown",
   "id": "5047d167-0318-49f5-9524-7d8da1cff100",
   "metadata": {},
   "source": [
    "- Plot accommodation based on longitude and latitude value"
   ]
  },
  {
   "cell_type": "code",
   "execution_count": 27,
   "id": "b2b212c1-57b5-447d-9f11-299c3e24a837",
   "metadata": {},
   "outputs": [],
   "source": [
    "mean_latitude = listings_cleaned['latitude'].mean()\n",
    "mean_longitude = listings_cleaned['longitude'].mean()\n",
    "\n",
    "# Create a map\n",
    "mp = folium.Map(location=[mean_latitude, mean_longitude], zoom_start=10)\n",
    "\n",
    "# Add markers for each accommodation\n",
    "for index, row in listings_cleaned.iterrows():\n",
    "    folium.Marker([row['latitude'], row['longitude']], popup=row['name']).add_to(mp)\n",
    "\n",
    "# Save or display the map\n",
    "mp.save('accommodation_distribution_map.html')"
   ]
  },
  {
   "cell_type": "markdown",
   "id": "a7b45635-2abf-4e22-b2d4-e5af8cea6c0c",
   "metadata": {},
   "source": [
    "Above Code has created an HTML file in my project directory, I will display the result using Iframe"
   ]
  },
  {
   "cell_type": "code",
   "execution_count": 28,
   "id": "6cb51ca5-1e84-42b7-89db-1086a41905f3",
   "metadata": {},
   "outputs": [
    {
     "data": {
      "text/html": [
       "\n",
       "        <iframe\n",
       "            width=\"800\"\n",
       "            height=\"600\"\n",
       "            src=\"accommodation_distribution_map.html\"\n",
       "            frameborder=\"0\"\n",
       "            allowfullscreen\n",
       "            \n",
       "        ></iframe>\n",
       "        "
      ],
      "text/plain": [
       "<IPython.lib.display.IFrame at 0x227d947e5c0>"
      ]
     },
     "execution_count": 28,
     "metadata": {},
     "output_type": "execute_result"
    }
   ],
   "source": [
    "from IPython.display import IFrame\n",
    "html_path = 'accommodation_distribution_map.html'\n",
    "width = 800\n",
    "height = 600\n",
    "# Display the HTML page in the notebook\n",
    "IFrame(html_path, width=width, height=height)"
   ]
  },
  {
   "cell_type": "markdown",
   "id": "483eac5f-a8aa-48d6-bcc9-54af07a58444",
   "metadata": {},
   "source": [
    "### 5) Summarize the number of accommodations in each market/ each region"
   ]
  },
  {
   "cell_type": "code",
   "execution_count": 29,
   "id": "f3ffa875-1001-4272-a6a4-c703607fcb00",
   "metadata": {},
   "outputs": [
    {
     "name": "stdout",
     "output_type": "stream",
     "text": [
      "neighbourhood\n",
      "2018 Antwerpen, Belgium                      1\n",
      "Antwerp, Belgium                            10\n",
      "Antwerp, Flanders, Belgium                  27\n",
      "Antwerp, Flemish Region, Belgium            11\n",
      "Antwerp, Vlaams Gewest, Belgium              1\n",
      "Antwerp, Vlaanderen, Belgium                 1\n",
      "Antwerpen, Antwerp, Belgium                  1\n",
      "Antwerpen, Belgium                          18\n",
      "Antwerpen, Flanders, Belgium                 1\n",
      "Antwerpen, Flanders/Vlaanderen, Belgium      1\n",
      "Antwerpen, Vlaams Gewest, Belgium          718\n",
      "Antwerpen, Vlaanderen, Belgium             653\n",
      "Berchem, Belgium                             1\n",
      "Borgerhout, Vlaanderen, Belgium              1\n",
      "Brasschaat, Vlaams Gewest, Belgium           1\n",
      "Ekeren , Vlaanderen, Belgium                 1\n",
      "Name: id, dtype: int64\n"
     ]
    }
   ],
   "source": [
    "accommodations_by_region = listings_cleaned.groupby('neighbourhood')['id'].count()\n",
    "print(accommodations_by_region)"
   ]
  },
  {
   "cell_type": "markdown",
   "id": "9f7aa3f8-7a88-4ed1-8486-ee95d6e7020e",
   "metadata": {},
   "source": [
    "### 6) Summarize the mean price of accommodations in each market/ each region"
   ]
  },
  {
   "cell_type": "code",
   "execution_count": 30,
   "id": "d9745e12-25dd-4337-beb1-8ec526af0521",
   "metadata": {},
   "outputs": [
    {
     "name": "stdout",
     "output_type": "stream",
     "text": [
      "neighbourhood\n",
      "2018 Antwerpen, Belgium                     79.000000\n",
      "Antwerp, Belgium                           219.400000\n",
      "Antwerp, Flanders, Belgium                 123.481481\n",
      "Antwerp, Flemish Region, Belgium           144.727273\n",
      "Antwerp, Vlaams Gewest, Belgium            311.000000\n",
      "Antwerp, Vlaanderen, Belgium               140.000000\n",
      "Antwerpen, Antwerp, Belgium                 56.000000\n",
      "Antwerpen, Belgium                         113.722222\n",
      "Antwerpen, Flanders, Belgium                45.000000\n",
      "Antwerpen, Flanders/Vlaanderen, Belgium     79.000000\n",
      "Antwerpen, Vlaams Gewest, Belgium          122.736769\n",
      "Antwerpen, Vlaanderen, Belgium             110.272588\n",
      "Berchem, Belgium                           146.000000\n",
      "Borgerhout, Vlaanderen, Belgium             91.000000\n",
      "Brasschaat, Vlaams Gewest, Belgium         131.000000\n",
      "Ekeren , Vlaanderen, Belgium                50.000000\n",
      "Name: price, dtype: float64\n"
     ]
    }
   ],
   "source": [
    "mean_price_of_region = listings_cleaned.groupby('neighbourhood')['price'].mean()\n",
    "print(mean_price_of_region)"
   ]
  },
  {
   "cell_type": "markdown",
   "id": "67a74217-1103-42d8-a1ba-9c3c3419de94",
   "metadata": {},
   "source": [
    "# Task 3: Building the Accommodation Prediction Model"
   ]
  },
  {
   "cell_type": "markdown",
   "id": "07a0329e-2593-4a29-8978-753da62e6e52",
   "metadata": {},
   "source": [
    "##### DEAL WITH NON-NUMERIC DATA"
   ]
  },
  {
   "cell_type": "code",
   "execution_count": 31,
   "id": "05d43662-1cd5-472f-8d18-6220c941792c",
   "metadata": {},
   "outputs": [
    {
     "name": "stdout",
     "output_type": "stream",
     "text": [
      "id                        int64\n",
      "name                     object\n",
      "description              object\n",
      "neighbourhood            object\n",
      "latitude                float64\n",
      "longitude               float64\n",
      "property_type            object\n",
      "room_type                object\n",
      "accommodates              int64\n",
      "bedrooms                float64\n",
      "beds                    float64\n",
      "amenities                object\n",
      "number_of_reviews         int64\n",
      "review_scores_rating    float64\n",
      "price                   float64\n",
      "log_price               float64\n",
      "dtype: object\n",
      "['Antwerpen, Vlaams Gewest, Belgium' 'Antwerpen, Vlaanderen, Belgium'\n",
      " 'Antwerp, Flemish Region, Belgium' 'Antwerp, Flanders, Belgium'\n",
      " 'Antwerpen, Belgium' 'Antwerp, Belgium' '2018 Antwerpen, Belgium'\n",
      " 'Borgerhout, Vlaanderen, Belgium' 'Antwerp, Vlaams Gewest, Belgium'\n",
      " 'Ekeren , Vlaanderen, Belgium' 'Antwerpen, Flanders/Vlaanderen, Belgium'\n",
      " 'Antwerpen, Flanders, Belgium' 'Antwerp, Vlaanderen, Belgium'\n",
      " 'Antwerpen, Antwerp, Belgium' 'Berchem, Belgium'\n",
      " 'Brasschaat, Vlaams Gewest, Belgium']\n"
     ]
    }
   ],
   "source": [
    "print(listings_cleaned.dtypes)\n",
    "columns_to_drop = ['name', 'description', 'amenities']\n",
    "numeric_listings = listings_cleaned.drop(columns=columns_to_drop)\n",
    "print(numeric_listings.neighbourhood.unique())"
   ]
  },
  {
   "cell_type": "markdown",
   "id": "197e6b51-29be-449d-b9e2-206ed6ad8b0c",
   "metadata": {},
   "source": [
    "##### Encode categorical columns"
   ]
  },
  {
   "cell_type": "markdown",
   "id": "81b6b532-8118-49d2-be9a-40457957918b",
   "metadata": {},
   "source": [
    "neighbourhood', 'property_type', 'room_type' columns appears to be valuable to predict price of the property. So, we will convert those columns to numeric data using get_dummies(). This function adds columns/features to the daatset based on the unique values."
   ]
  },
  {
   "cell_type": "code",
   "execution_count": 32,
   "id": "8ae06e9c-4c67-4167-bff3-6f881f2fc96a",
   "metadata": {},
   "outputs": [
    {
     "name": "stdout",
     "output_type": "stream",
     "text": [
      "Shape before encoding:  (1447, 13)\n"
     ]
    }
   ],
   "source": [
    "print(\"Shape before encoding: \", numeric_listings.shape)"
   ]
  },
  {
   "cell_type": "code",
   "execution_count": 33,
   "id": "93f3e29f-d9d8-4aee-b690-55abe94a82c2",
   "metadata": {},
   "outputs": [],
   "source": [
    "numeric_listings = pd.get_dummies(numeric_listings, columns=['neighbourhood', 'property_type', 'room_type'], drop_first=True)"
   ]
  },
  {
   "cell_type": "code",
   "execution_count": 34,
   "id": "70707c59-de47-4ce9-985b-6f7055b6f075",
   "metadata": {},
   "outputs": [
    {
     "name": "stdout",
     "output_type": "stream",
     "text": [
      "Shape after encoding:  (1447, 54)\n"
     ]
    }
   ],
   "source": [
    "print(\"Shape after encoding: \", numeric_listings.shape)"
   ]
  },
  {
   "cell_type": "markdown",
   "id": "105bbdec-1708-42f6-af43-aff408a105fa",
   "metadata": {},
   "source": [
    "### 7) Choose a supervised model such as Xgboost, ANNs and other models to implement your price predictor"
   ]
  },
  {
   "cell_type": "markdown",
   "id": "c0459e0e-ca0d-4715-be81-8101323e9913",
   "metadata": {},
   "source": [
    "##### First we will split the features and target column"
   ]
  },
  {
   "cell_type": "code",
   "execution_count": 35,
   "id": "d1928a3f-f8c4-4a5e-9e7c-66bea259d290",
   "metadata": {},
   "outputs": [
    {
     "name": "stdout",
     "output_type": "stream",
     "text": [
      "Index(['id', 'latitude', 'longitude', 'accommodates', 'bedrooms', 'beds',\n",
      "       'number_of_reviews', 'review_scores_rating', 'price', 'log_price',\n",
      "       'neighbourhood_Antwerp, Belgium',\n",
      "       'neighbourhood_Antwerp, Flanders, Belgium',\n",
      "       'neighbourhood_Antwerp, Flemish Region, Belgium',\n",
      "       'neighbourhood_Antwerp, Vlaams Gewest, Belgium',\n",
      "       'neighbourhood_Antwerp, Vlaanderen, Belgium',\n",
      "       'neighbourhood_Antwerpen, Antwerp, Belgium',\n",
      "       'neighbourhood_Antwerpen, Belgium',\n",
      "       'neighbourhood_Antwerpen, Flanders, Belgium',\n",
      "       'neighbourhood_Antwerpen, Flanders/Vlaanderen, Belgium',\n",
      "       'neighbourhood_Antwerpen, Vlaams Gewest, Belgium',\n",
      "       'neighbourhood_Antwerpen, Vlaanderen, Belgium',\n",
      "       'neighbourhood_Berchem, Belgium',\n",
      "       'neighbourhood_Borgerhout, Vlaanderen, Belgium',\n",
      "       'neighbourhood_Brasschaat, Vlaams Gewest, Belgium',\n",
      "       'neighbourhood_Ekeren , Vlaanderen, Belgium',\n",
      "       'property_type_Entire condo', 'property_type_Entire guest suite',\n",
      "       'property_type_Entire guesthouse', 'property_type_Entire home',\n",
      "       'property_type_Entire loft', 'property_type_Entire place',\n",
      "       'property_type_Entire rental unit',\n",
      "       'property_type_Entire serviced apartment',\n",
      "       'property_type_Entire townhouse', 'property_type_Entire vacation home',\n",
      "       'property_type_Entire villa', 'property_type_Houseboat',\n",
      "       'property_type_Private room',\n",
      "       'property_type_Private room in bed and breakfast',\n",
      "       'property_type_Private room in casa particular',\n",
      "       'property_type_Private room in condo',\n",
      "       'property_type_Private room in guest suite',\n",
      "       'property_type_Private room in guesthouse',\n",
      "       'property_type_Private room in home',\n",
      "       'property_type_Private room in loft',\n",
      "       'property_type_Private room in rental unit',\n",
      "       'property_type_Private room in townhouse',\n",
      "       'property_type_Room in aparthotel',\n",
      "       'property_type_Room in boutique hotel', 'property_type_Room in hotel',\n",
      "       'property_type_Tiny home', 'property_type_Yurt', 'room_type_Hotel room',\n",
      "       'room_type_Private room'],\n",
      "      dtype='object')\n"
     ]
    }
   ],
   "source": [
    "print(numeric_listings.columns)"
   ]
  },
  {
   "cell_type": "code",
   "execution_count": 36,
   "id": "b6d58ab3-80ad-46f2-8d4f-311595560274",
   "metadata": {},
   "outputs": [],
   "source": [
    "columns_to_exclude = ['id', 'latitude', 'longitude' ,'price', 'log_price']\n",
    "X = numeric_listings.drop(columns=columns_to_exclude)\n",
    "Y = numeric_listings['price']"
   ]
  },
  {
   "cell_type": "code",
   "execution_count": 37,
   "id": "9c70054e-d3c7-447d-8b3c-0469a1585c4d",
   "metadata": {},
   "outputs": [
    {
     "data": {
      "text/plain": [
       "Index(['accommodates', 'bedrooms', 'beds', 'number_of_reviews',\n",
       "       'review_scores_rating', 'neighbourhood_Antwerp, Belgium',\n",
       "       'neighbourhood_Antwerp, Flanders, Belgium',\n",
       "       'neighbourhood_Antwerp, Flemish Region, Belgium',\n",
       "       'neighbourhood_Antwerp, Vlaams Gewest, Belgium',\n",
       "       'neighbourhood_Antwerp, Vlaanderen, Belgium',\n",
       "       'neighbourhood_Antwerpen, Antwerp, Belgium',\n",
       "       'neighbourhood_Antwerpen, Belgium',\n",
       "       'neighbourhood_Antwerpen, Flanders, Belgium',\n",
       "       'neighbourhood_Antwerpen, Flanders/Vlaanderen, Belgium',\n",
       "       'neighbourhood_Antwerpen, Vlaams Gewest, Belgium',\n",
       "       'neighbourhood_Antwerpen, Vlaanderen, Belgium',\n",
       "       'neighbourhood_Berchem, Belgium',\n",
       "       'neighbourhood_Borgerhout, Vlaanderen, Belgium',\n",
       "       'neighbourhood_Brasschaat, Vlaams Gewest, Belgium',\n",
       "       'neighbourhood_Ekeren , Vlaanderen, Belgium',\n",
       "       'property_type_Entire condo', 'property_type_Entire guest suite',\n",
       "       'property_type_Entire guesthouse', 'property_type_Entire home',\n",
       "       'property_type_Entire loft', 'property_type_Entire place',\n",
       "       'property_type_Entire rental unit',\n",
       "       'property_type_Entire serviced apartment',\n",
       "       'property_type_Entire townhouse', 'property_type_Entire vacation home',\n",
       "       'property_type_Entire villa', 'property_type_Houseboat',\n",
       "       'property_type_Private room',\n",
       "       'property_type_Private room in bed and breakfast',\n",
       "       'property_type_Private room in casa particular',\n",
       "       'property_type_Private room in condo',\n",
       "       'property_type_Private room in guest suite',\n",
       "       'property_type_Private room in guesthouse',\n",
       "       'property_type_Private room in home',\n",
       "       'property_type_Private room in loft',\n",
       "       'property_type_Private room in rental unit',\n",
       "       'property_type_Private room in townhouse',\n",
       "       'property_type_Room in aparthotel',\n",
       "       'property_type_Room in boutique hotel', 'property_type_Room in hotel',\n",
       "       'property_type_Tiny home', 'property_type_Yurt', 'room_type_Hotel room',\n",
       "       'room_type_Private room'],\n",
       "      dtype='object')"
      ]
     },
     "execution_count": 37,
     "metadata": {},
     "output_type": "execute_result"
    }
   ],
   "source": [
    "X.columns"
   ]
  },
  {
   "cell_type": "code",
   "execution_count": 38,
   "id": "b7421a46-7118-40d5-91fa-b6f6ea6911ac",
   "metadata": {},
   "outputs": [
    {
     "name": "stdout",
     "output_type": "stream",
     "text": [
      "0      56.0\n",
      "9      56.0\n",
      "16     38.0\n",
      "37    581.0\n",
      "45     80.0\n",
      "Name: price, dtype: float64\n"
     ]
    }
   ],
   "source": [
    "print(Y[:5])"
   ]
  },
  {
   "cell_type": "markdown",
   "id": "44ddd32c-cd92-4298-b27b-5ab186944e36",
   "metadata": {},
   "source": [
    "##### Split the data to training and testing sets"
   ]
  },
  {
   "cell_type": "markdown",
   "id": "e71ef3c8-f14f-4ece-a264-ff09b208a046",
   "metadata": {},
   "source": [
    "Let's keep 80% of data for training and rest 20% for testing, as mentioned in the requirement"
   ]
  },
  {
   "cell_type": "code",
   "execution_count": 39,
   "id": "515a550e-1c0a-4775-9d23-973423fd87f4",
   "metadata": {},
   "outputs": [],
   "source": [
    "X_train, X_test, y_train, y_test = train_test_split(X, Y, test_size=0.2)"
   ]
  },
  {
   "cell_type": "code",
   "execution_count": 40,
   "id": "5bf18145-8c71-48e5-bffd-8d7c64c88ab9",
   "metadata": {},
   "outputs": [
    {
     "name": "stdout",
     "output_type": "stream",
     "text": [
      "Original data (rows, columns):  (1447, 49)\n",
      "Training data (rows, columns):  (1157, 49)\n",
      "Testing data (rows, columns):  (290, 49)\n"
     ]
    }
   ],
   "source": [
    "print(\"Original data (rows, columns): \", X.shape)\n",
    "print(\"Training data (rows, columns): \", X_train.shape)\n",
    "print(\"Testing data (rows, columns): \", X_test.shape)"
   ]
  },
  {
   "cell_type": "markdown",
   "id": "f52b2682-1095-4b69-ba7d-4fef18b5e381",
   "metadata": {},
   "source": [
    "In order to make predictive model on the given dataset using supervised model. We need to remove or convert all the columns, those are having string values in them. In simple words, machine learning model will accept numeric data only"
   ]
  },
  {
   "cell_type": "markdown",
   "id": "7fa81d66-2e12-496a-85e2-d1dfffde110e",
   "metadata": {},
   "source": [
    "##### CREATE AND TRAIN THE MODEL"
   ]
  },
  {
   "cell_type": "code",
   "execution_count": 41,
   "id": "1415da93-c878-4fd8-8f46-3bf64d52ef49",
   "metadata": {},
   "outputs": [
    {
     "data": {
      "text/html": [
       "<style>#sk-container-id-1 {color: black;}#sk-container-id-1 pre{padding: 0;}#sk-container-id-1 div.sk-toggleable {background-color: white;}#sk-container-id-1 label.sk-toggleable__label {cursor: pointer;display: block;width: 100%;margin-bottom: 0;padding: 0.3em;box-sizing: border-box;text-align: center;}#sk-container-id-1 label.sk-toggleable__label-arrow:before {content: \"▸\";float: left;margin-right: 0.25em;color: #696969;}#sk-container-id-1 label.sk-toggleable__label-arrow:hover:before {color: black;}#sk-container-id-1 div.sk-estimator:hover label.sk-toggleable__label-arrow:before {color: black;}#sk-container-id-1 div.sk-toggleable__content {max-height: 0;max-width: 0;overflow: hidden;text-align: left;background-color: #f0f8ff;}#sk-container-id-1 div.sk-toggleable__content pre {margin: 0.2em;color: black;border-radius: 0.25em;background-color: #f0f8ff;}#sk-container-id-1 input.sk-toggleable__control:checked~div.sk-toggleable__content {max-height: 200px;max-width: 100%;overflow: auto;}#sk-container-id-1 input.sk-toggleable__control:checked~label.sk-toggleable__label-arrow:before {content: \"▾\";}#sk-container-id-1 div.sk-estimator input.sk-toggleable__control:checked~label.sk-toggleable__label {background-color: #d4ebff;}#sk-container-id-1 div.sk-label input.sk-toggleable__control:checked~label.sk-toggleable__label {background-color: #d4ebff;}#sk-container-id-1 input.sk-hidden--visually {border: 0;clip: rect(1px 1px 1px 1px);clip: rect(1px, 1px, 1px, 1px);height: 1px;margin: -1px;overflow: hidden;padding: 0;position: absolute;width: 1px;}#sk-container-id-1 div.sk-estimator {font-family: monospace;background-color: #f0f8ff;border: 1px dotted black;border-radius: 0.25em;box-sizing: border-box;margin-bottom: 0.5em;}#sk-container-id-1 div.sk-estimator:hover {background-color: #d4ebff;}#sk-container-id-1 div.sk-parallel-item::after {content: \"\";width: 100%;border-bottom: 1px solid gray;flex-grow: 1;}#sk-container-id-1 div.sk-label:hover label.sk-toggleable__label {background-color: #d4ebff;}#sk-container-id-1 div.sk-serial::before {content: \"\";position: absolute;border-left: 1px solid gray;box-sizing: border-box;top: 0;bottom: 0;left: 50%;z-index: 0;}#sk-container-id-1 div.sk-serial {display: flex;flex-direction: column;align-items: center;background-color: white;padding-right: 0.2em;padding-left: 0.2em;position: relative;}#sk-container-id-1 div.sk-item {position: relative;z-index: 1;}#sk-container-id-1 div.sk-parallel {display: flex;align-items: stretch;justify-content: center;background-color: white;position: relative;}#sk-container-id-1 div.sk-item::before, #sk-container-id-1 div.sk-parallel-item::before {content: \"\";position: absolute;border-left: 1px solid gray;box-sizing: border-box;top: 0;bottom: 0;left: 50%;z-index: -1;}#sk-container-id-1 div.sk-parallel-item {display: flex;flex-direction: column;z-index: 1;position: relative;background-color: white;}#sk-container-id-1 div.sk-parallel-item:first-child::after {align-self: flex-end;width: 50%;}#sk-container-id-1 div.sk-parallel-item:last-child::after {align-self: flex-start;width: 50%;}#sk-container-id-1 div.sk-parallel-item:only-child::after {width: 0;}#sk-container-id-1 div.sk-dashed-wrapped {border: 1px dashed gray;margin: 0 0.4em 0.5em 0.4em;box-sizing: border-box;padding-bottom: 0.4em;background-color: white;}#sk-container-id-1 div.sk-label label {font-family: monospace;font-weight: bold;display: inline-block;line-height: 1.2em;}#sk-container-id-1 div.sk-label-container {text-align: center;}#sk-container-id-1 div.sk-container {/* jupyter's `normalize.less` sets `[hidden] { display: none; }` but bootstrap.min.css set `[hidden] { display: none !important; }` so we also need the `!important` here to be able to override the default hidden behavior on the sphinx rendered scikit-learn.org. See: https://github.com/scikit-learn/scikit-learn/issues/21755 */display: inline-block !important;position: relative;}#sk-container-id-1 div.sk-text-repr-fallback {display: none;}</style><div id=\"sk-container-id-1\" class=\"sk-top-container\"><div class=\"sk-text-repr-fallback\"><pre>XGBRegressor(base_score=None, booster=None, callbacks=None,\n",
       "             colsample_bylevel=None, colsample_bynode=None,\n",
       "             colsample_bytree=None, device=None, early_stopping_rounds=None,\n",
       "             enable_categorical=False, eval_metric=None, feature_types=None,\n",
       "             gamma=None, grow_policy=None, importance_type=None,\n",
       "             interaction_constraints=None, learning_rate=None, max_bin=None,\n",
       "             max_cat_threshold=None, max_cat_to_onehot=None,\n",
       "             max_delta_step=None, max_depth=None, max_leaves=None,\n",
       "             min_child_weight=None, missing=nan, monotone_constraints=None,\n",
       "             multi_strategy=None, n_estimators=None, n_jobs=None,\n",
       "             num_parallel_tree=None, random_state=None, ...)</pre><b>In a Jupyter environment, please rerun this cell to show the HTML representation or trust the notebook. <br />On GitHub, the HTML representation is unable to render, please try loading this page with nbviewer.org.</b></div><div class=\"sk-container\" hidden><div class=\"sk-item\"><div class=\"sk-estimator sk-toggleable\"><input class=\"sk-toggleable__control sk-hidden--visually\" id=\"sk-estimator-id-1\" type=\"checkbox\" checked><label for=\"sk-estimator-id-1\" class=\"sk-toggleable__label sk-toggleable__label-arrow\">XGBRegressor</label><div class=\"sk-toggleable__content\"><pre>XGBRegressor(base_score=None, booster=None, callbacks=None,\n",
       "             colsample_bylevel=None, colsample_bynode=None,\n",
       "             colsample_bytree=None, device=None, early_stopping_rounds=None,\n",
       "             enable_categorical=False, eval_metric=None, feature_types=None,\n",
       "             gamma=None, grow_policy=None, importance_type=None,\n",
       "             interaction_constraints=None, learning_rate=None, max_bin=None,\n",
       "             max_cat_threshold=None, max_cat_to_onehot=None,\n",
       "             max_delta_step=None, max_depth=None, max_leaves=None,\n",
       "             min_child_weight=None, missing=nan, monotone_constraints=None,\n",
       "             multi_strategy=None, n_estimators=None, n_jobs=None,\n",
       "             num_parallel_tree=None, random_state=None, ...)</pre></div></div></div></div></div>"
      ],
      "text/plain": [
       "XGBRegressor(base_score=None, booster=None, callbacks=None,\n",
       "             colsample_bylevel=None, colsample_bynode=None,\n",
       "             colsample_bytree=None, device=None, early_stopping_rounds=None,\n",
       "             enable_categorical=False, eval_metric=None, feature_types=None,\n",
       "             gamma=None, grow_policy=None, importance_type=None,\n",
       "             interaction_constraints=None, learning_rate=None, max_bin=None,\n",
       "             max_cat_threshold=None, max_cat_to_onehot=None,\n",
       "             max_delta_step=None, max_depth=None, max_leaves=None,\n",
       "             min_child_weight=None, missing=nan, monotone_constraints=None,\n",
       "             multi_strategy=None, n_estimators=None, n_jobs=None,\n",
       "             num_parallel_tree=None, random_state=None, ...)"
      ]
     },
     "execution_count": 41,
     "metadata": {},
     "output_type": "execute_result"
    }
   ],
   "source": [
    "model = XGBRegressor()\n",
    "model.fit(X_train, y_train)"
   ]
  },
  {
   "cell_type": "markdown",
   "id": "7469a43f-5be6-47e0-abf7-689efb932c61",
   "metadata": {},
   "source": [
    "##### MODEL VALIDATION"
   ]
  },
  {
   "cell_type": "code",
   "execution_count": 42,
   "id": "59a1aa16-f98e-4809-88da-8669f5661495",
   "metadata": {},
   "outputs": [
    {
     "name": "stdout",
     "output_type": "stream",
     "text": [
      "Training R^2 Score: 0.9518635310154441\n"
     ]
    }
   ],
   "source": [
    "from sklearn.metrics import r2_score\n",
    "\n",
    "# Predictions on training set\n",
    "y_train_pred = model.predict(X_train)\n",
    "\n",
    "# Calculate R^2 score for training set\n",
    "r2_train = r2_score(y_train, y_train_pred)\n",
    "print(f\"Training R^2 Score: {r2_train}\")\n"
   ]
  },
  {
   "cell_type": "markdown",
   "id": "92055964-0ff2-40d4-9a9e-2cd212048583",
   "metadata": {},
   "source": [
    "### 8) Perform an analysis to discuss what kinds features are most related to the accommodation price"
   ]
  },
  {
   "cell_type": "code",
   "execution_count": 43,
   "id": "a1ff63d8-d290-4c31-b7fd-e805c3f62915",
   "metadata": {},
   "outputs": [
    {
     "name": "stdout",
     "output_type": "stream",
     "text": [
      "[2.91528329e-02 3.86711925e-01 2.95883864e-02 1.45985810e-02\n",
      " 1.87501013e-02 1.40559420e-01 4.42736875e-03 1.17669962e-02\n",
      " 0.00000000e+00 0.00000000e+00 1.48933730e-03 7.02176243e-04\n",
      " 0.00000000e+00 1.44165882e-04 1.17719127e-02 3.10853310e-03\n",
      " 2.69789225e-03 1.19819095e-04 0.00000000e+00 0.00000000e+00\n",
      " 3.42064211e-03 1.00978429e-03 3.79977253e-04 1.78301670e-02\n",
      " 1.14767579e-02 3.70103342e-04 6.16802461e-02 7.47002289e-02\n",
      " 2.40542460e-02 7.79483991e-04 0.00000000e+00 2.23048570e-04\n",
      " 5.61040302e-04 2.37602182e-03 1.58305746e-04 2.84568546e-03\n",
      " 0.00000000e+00 2.03161663e-03 3.43598425e-03 1.64642814e-03\n",
      " 1.79649647e-02 1.02554599e-03 3.56345763e-03 5.12497984e-02\n",
      " 2.81222146e-02 3.11267358e-04 1.23739592e-03 1.36485836e-02\n",
      " 1.83075462e-02]\n"
     ]
    }
   ],
   "source": [
    "feature_importance = model.feature_importances_\n",
    "print(feature_importance)"
   ]
  },
  {
   "cell_type": "code",
   "execution_count": 44,
   "id": "b49ade2a-debf-463b-a1e2-603ed60fa7c4",
   "metadata": {},
   "outputs": [
    {
     "data": {
      "image/png": "[encoded data removed]",
      "text/plain": [
       "<Figure size 1000x600 with 1 Axes>"
      ]
     },
     "metadata": {},
     "output_type": "display_data"
    }
   ],
   "source": [
    "# Sort the features based on importance\n",
    "indices = np.argsort(feature_importance[:5])\n",
    "feature_names = X_train.columns[:5]\n",
    "# Plotting\n",
    "plt.figure(figsize=(10, 6))\n",
    "plt.barh(range(len(indices)), feature_importance[indices], align='center')\n",
    "plt.yticks(range(len(indices)), [feature_names[i] for i in indices])\n",
    "plt.xlabel('Feature Importance')\n",
    "plt.title('Top 5 Features based on their importance')\n",
    "plt.show()"
   ]
  },
  {
   "cell_type": "markdown",
   "id": "48f3bb0a-9a86-4922-ac4c-8244499cc750",
   "metadata": {},
   "source": [
    "# Task 4（Advanced tasks)：Sentiment analysis"
   ]
  },
  {
   "cell_type": "code",
   "execution_count": 45,
   "id": "fbe57d74-1ab4-4446-9f0c-d99346bbaf2d",
   "metadata": {},
   "outputs": [
    {
     "data": {
      "text/html": [
       "<div>\n",
       "<style scoped>\n",
       "    .dataframe tbody tr th:only-of-type {\n",
       "        vertical-align: middle;\n",
       "    }\n",
       "\n",
       "    .dataframe tbody tr th {\n",
       "        vertical-align: top;\n",
       "    }\n",
       "\n",
       "    .dataframe thead th {\n",
       "        text-align: right;\n",
       "    }\n",
       "</style>\n",
       "<table border=\"1\" class=\"dataframe\">\n",
       "  <thead>\n",
       "    <tr style=\"text-align: right;\">\n",
       "      <th></th>\n",
       "      <th>listing_id</th>\n",
       "      <th>id</th>\n",
       "      <th>date</th>\n",
       "      <th>reviewer_id</th>\n",
       "      <th>reviewer_name</th>\n",
       "      <th>comments</th>\n",
       "    </tr>\n",
       "  </thead>\n",
       "  <tbody>\n",
       "    <tr>\n",
       "      <th>0</th>\n",
       "      <td>50904</td>\n",
       "      <td>31511792</td>\n",
       "      <td>2015-05-06</td>\n",
       "      <td>19482395</td>\n",
       "      <td>Jihae</td>\n",
       "      <td>Karin’s “Aplace” is absolutely beautiful and c...</td>\n",
       "    </tr>\n",
       "    <tr>\n",
       "      <th>1</th>\n",
       "      <td>50904</td>\n",
       "      <td>470101024356869935</td>\n",
       "      <td>2021-10-10</td>\n",
       "      <td>333559</td>\n",
       "      <td>Emilie</td>\n",
       "      <td>Karin is a wonderful host, she was really help...</td>\n",
       "    </tr>\n",
       "    <tr>\n",
       "      <th>2</th>\n",
       "      <td>50904</td>\n",
       "      <td>627287279025726941</td>\n",
       "      <td>2022-05-15</td>\n",
       "      <td>32701854</td>\n",
       "      <td>Marie-Lou</td>\n",
       "      <td>The location is super super nice! Karin was al...</td>\n",
       "    </tr>\n",
       "    <tr>\n",
       "      <th>3</th>\n",
       "      <td>224682</td>\n",
       "      <td>933043</td>\n",
       "      <td>2012-02-20</td>\n",
       "      <td>1422043</td>\n",
       "      <td>Hiske &amp; Erik</td>\n",
       "      <td>Perfect location for exploring the city, close...</td>\n",
       "    </tr>\n",
       "    <tr>\n",
       "      <th>4</th>\n",
       "      <td>224682</td>\n",
       "      <td>970457</td>\n",
       "      <td>2012-03-05</td>\n",
       "      <td>1493171</td>\n",
       "      <td>Paolo</td>\n",
       "      <td>Muriel was such a fantastic host, extremely he...</td>\n",
       "    </tr>\n",
       "  </tbody>\n",
       "</table>\n",
       "</div>"
      ],
      "text/plain": [
       "   listing_id                  id        date  reviewer_id reviewer_name  \\\n",
       "0       50904            31511792  2015-05-06     19482395         Jihae   \n",
       "1       50904  470101024356869935  2021-10-10       333559        Emilie   \n",
       "2       50904  627287279025726941  2022-05-15     32701854     Marie-Lou   \n",
       "3      224682              933043  2012-02-20      1422043  Hiske & Erik   \n",
       "4      224682              970457  2012-03-05      1493171         Paolo   \n",
       "\n",
       "                                            comments  \n",
       "0  Karin’s “Aplace” is absolutely beautiful and c...  \n",
       "1  Karin is a wonderful host, she was really help...  \n",
       "2  The location is super super nice! Karin was al...  \n",
       "3  Perfect location for exploring the city, close...  \n",
       "4  Muriel was such a fantastic host, extremely he...  "
      ]
     },
     "execution_count": 45,
     "metadata": {},
     "output_type": "execute_result"
    }
   ],
   "source": [
    "reviews = pd.read_csv('reviews.csv')\n",
    "reviews.head()"
   ]
  },
  {
   "cell_type": "code",
   "execution_count": 46,
   "id": "1db4b4eb-fc82-4ce4-9df0-3111cd081229",
   "metadata": {},
   "outputs": [
    {
     "name": "stderr",
     "output_type": "stream",
     "text": [
      "[nltk_data] Downloading package vader_lexicon to\n",
      "[nltk_data]     C:\\Users\\AMAN\\AppData\\Roaming\\nltk_data...\n",
      "[nltk_data]   Package vader_lexicon is already up-to-date!\n"
     ]
    },
    {
     "data": {
      "text/plain": [
       "True"
      ]
     },
     "execution_count": 46,
     "metadata": {},
     "output_type": "execute_result"
    }
   ],
   "source": [
    "import nltk\n",
    "nltk.download('vader_lexicon')"
   ]
  },
  {
   "cell_type": "markdown",
   "id": "19095ac1-a1cb-4ee6-b174-3d08a2273b66",
   "metadata": {},
   "source": [
    "### 9) Perform the sentiment analysis for the review comments"
   ]
  },
  {
   "cell_type": "code",
   "execution_count": 47,
   "id": "591152e1-cd1f-4570-837a-e676b4d5e92e",
   "metadata": {},
   "outputs": [],
   "source": [
    "from nltk.sentiment import SentimentIntensityAnalyzer\n",
    "sia = SentimentIntensityAnalyzer()"
   ]
  },
  {
   "cell_type": "code",
   "execution_count": 48,
   "id": "fff63cd2-c294-4e44-a7b3-5392f9657fda",
   "metadata": {},
   "outputs": [],
   "source": [
    "# Define a function to calculate sentiment score\n",
    "def calculate_sentiment_score(comment):\n",
    "    if isinstance(comment, str):\n",
    "        return sia.polarity_scores(comment)['compound']\n",
    "    else:\n",
    "        return None  # we can use any default value for non-string values\n",
    "\n",
    "# Apply the sentiment analysis function to the 'comments' column\n",
    "reviews['sentiment_score'] = reviews['comments'].apply(calculate_sentiment_score)\n"
   ]
  },
  {
   "cell_type": "code",
   "execution_count": 49,
   "id": "4725f4c2-24d7-4a9a-a148-a4ad9b6207b1",
   "metadata": {},
   "outputs": [
    {
     "name": "stdout",
     "output_type": "stream",
     "text": [
      "               listing_id                  id        date  reviewer_id  \\\n",
      "97120  970936842148845754  980976814102406341  2023-09-15    528835699   \n",
      "97121  972892731773207778  977338172258716889  2023-09-10     68958767   \n",
      "97122  972892731773207778  982435468054092837  2023-09-17     61409911   \n",
      "97123  975154238474532959  977398882312709986  2023-09-10    384546438   \n",
      "97124  977985082084304366  981701740613077893  2023-09-16    210133725   \n",
      "\n",
      "      reviewer_name                                           comments  \\\n",
      "97120        Bianca      extreamly clean, smelled amazing 10 out of 10   \n",
      "97121          Cody  Had a great stay at this spot. Central locatio...   \n",
      "97122      Jennifer  Gute Unterkunft in toller Lage. Wenige Minuten...   \n",
      "97123          Sara                             Everything was good 👍🏻   \n",
      "97124           Liv  Die Lage der Wohnung war perfekt für unseren S...   \n",
      "\n",
      "       sentiment_score  \n",
      "97120           0.7579  \n",
      "97121           0.9182  \n",
      "97122          -0.7500  \n",
      "97123           0.4404  \n",
      "97124          -0.9136  \n"
     ]
    }
   ],
   "source": [
    "print(reviews.tail())"
   ]
  },
  {
   "cell_type": "code",
   "execution_count": 50,
   "id": "68ad6ab6-d16a-4285-a41b-8f00ab6af0cf",
   "metadata": {},
   "outputs": [],
   "source": [
    "positive_reviews = reviews[reviews['sentiment_score'] > 0]\n",
    "negative_reviews = reviews[reviews['sentiment_score'] < 0]"
   ]
  },
  {
   "cell_type": "code",
   "execution_count": 51,
   "id": "fa199530-27a6-46b9-9995-741a32f929bc",
   "metadata": {},
   "outputs": [
    {
     "name": "stdout",
     "output_type": "stream",
     "text": [
      "0    Karin’s “Aplace” is absolutely beautiful and c...\n",
      "1    Karin is a wonderful host, she was really help...\n",
      "2    The location is super super nice! Karin was al...\n",
      "3    Perfect location for exploring the city, close...\n",
      "Name: comments, dtype: object\n"
     ]
    }
   ],
   "source": [
    "print(positive_reviews.comments[:4])"
   ]
  },
  {
   "cell_type": "code",
   "execution_count": 52,
   "id": "b0fccd25-74cb-465e-9704-891418a075e8",
   "metadata": {},
   "outputs": [
    {
     "name": "stdout",
     "output_type": "stream",
     "text": [
      "29    Sehr schönes Apartement, sehr zentral und gut ...\n",
      "30    Die Wohnung ist totel niedlich und supersauber...\n",
      "62    Leuk appartement aan plein in het hartje van A...\n",
      "71    Miertje hat lange auf uns warten müssen, weil ...\n",
      "Name: comments, dtype: object\n"
     ]
    }
   ],
   "source": [
    "print(negative_reviews.comments[:4])"
   ]
  },
  {
   "cell_type": "code",
   "execution_count": 53,
   "id": "a76e4d7f-50c6-49b4-aa46-aa318775aa2f",
   "metadata": {},
   "outputs": [
    {
     "name": "stdout",
     "output_type": "stream",
     "text": [
      "Number of positive reviews/comments:  60065\n",
      "Number of negative reviews/comments:  9434\n"
     ]
    }
   ],
   "source": [
    "print(\"Number of positive reviews/comments: \", len(positive_reviews))\n",
    "print(\"Number of negative reviews/comments: \", len(negative_reviews))"
   ]
  },
  {
   "cell_type": "markdown",
   "id": "797c702f-9bd3-4455-8399-b5e0b7a957c6",
   "metadata": {},
   "source": [
    "### 10) Analysis of the reasons why people like and dislike the accommodations (open question)"
   ]
  },
  {
   "cell_type": "markdown",
   "id": "0f86cb99-77b0-4003-aec1-d2eed00457be",
   "metadata": {},
   "source": [
    "##### Positive Aspects (Why People Like the Accommodations):\n",
    "\n",
    "- <b>Positive Interactions with the Host:</b> Described as helpful, kind, kind, and simple, guests love these types of hosts.\n",
    "- <b>Convenient Location:</b> Being close to important landmarks, stores, pubs, and eateries is appreciated.\n",
    "- <b>Beautiful Furnishings:</b> It appears that visitors appreciate well-furnished rooms with sophisticated accents and a blend of retro and modern design.\n",
    "- <b>Comfort and Amenities:</b> When lodgings are roomy, cosy, and furnished with everything you need, guests are sure to leave positive reviews.\n",
    "- <b>Flexibility and Consideration:</b> Guests are more likely to give positive feedback to hosts who are flexible, letting them stay late on the day of departure, and who provide thoughtful touches, such well-stocked refrigerators.\n",
    "- <b>Simple Communication:</b> We like accommodations with hosts who make it simple and stress-free to communicate.\n",
    "\n",
    "### Areas for Improvement (Potential Dislikes):\n",
    "\n",
    "- <b>Noise Problems:</b> The fact that noise disruptions are mentioned suggests that this may be something people detest.\r",
    "- <b>\n",
    "Potential Maintenance Concerns</b>: Although most reviews compliment the accommodations, there may be maintenance problems that go unnoticed that could result in unfavourable review.\n",
    ".- <b>\r\n",
    "No Explicitly Negative Feedbac</b>k: The remarks that have been provided are mainly positive, and there isn't any direct criticism. It's important to remember that visitors may not always be so vocal about their dislikes in their reviews.\n",
    "\n",
    "\n"
   ]
  },
  {
   "cell_type": "code",
   "execution_count": null,
   "id": "8e44a4aa-63e8-4f0a-8a4e-63998a1664e9",
   "metadata": {},
   "outputs": [],
   "source": []
  }
 ],
 "metadata": {
  "kernelspec": {
   "display_name": "Python 3 (ipykernel)",
   "language": "python",
   "name": "python3"
  },
  "language_info": {
   "codemirror_mode": {
    "name": "ipython",
    "version": 3
   },
   "file_extension": ".py",
   "mimetype": "text/x-python",
   "name": "python",
   "nbconvert_exporter": "python",
   "pygments_lexer": "ipython3",
   "version": "3.10.8"
  }
 },
 "nbformat": 4,
 "nbformat_minor": 5
}
